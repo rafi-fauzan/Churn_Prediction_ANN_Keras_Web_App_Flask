{
 "metadata": {
  "language_info": {
   "codemirror_mode": {
    "name": "ipython",
    "version": 3
   },
   "file_extension": ".py",
   "mimetype": "text/x-python",
   "name": "python",
   "nbconvert_exporter": "python",
   "pygments_lexer": "ipython3",
   "version": "3.7.3-final"
  },
  "orig_nbformat": 2,
  "kernelspec": {
   "name": "python_defaultSpec_1601911990619",
   "display_name": "Python 3.7.3 64-bit ('deeplearning': conda)",
   "metadata": {
    "interpreter": {
     "hash": "81c14c6352f2121b3d4b5b07b42161a79962d7f4af800ab579cac634bccec4e1"
    }
   }
  }
 },
 "nbformat": 4,
 "nbformat_minor": 2,
 "cells": [
  {
   "cell_type": "code",
   "execution_count": 1,
   "metadata": {
    "tags": []
   },
   "outputs": [
    {
     "output_type": "stream",
     "name": "stderr",
     "text": "Using TensorFlow backend.\n"
    }
   ],
   "source": [
    "# import dependencies\n",
    "import pandas as pd\n",
    "from sklearn.preprocessing import LabelEncoder\n",
    "from sklearn.model_selection import train_test_split\n",
    "from sklearn.preprocessing import StandardScaler\n",
    "import keras\n",
    "from keras.models import Sequential\n",
    "from keras.layers import Dense\n",
    "from keras.layers import Dropout"
   ]
  },
  {
   "cell_type": "code",
   "execution_count": 2,
   "metadata": {},
   "outputs": [
    {
     "output_type": "execute_result",
     "data": {
      "text/plain": "   RowNumber  CustomerId   Surname  CreditScore Geography  Gender  Age  \\\n0          1    15634602  Hargrave          619    France  Female   42   \n1          2    15647311      Hill          608     Spain  Female   41   \n2          3    15619304      Onio          502    France  Female   42   \n3          4    15701354      Boni          699    France  Female   39   \n4          5    15737888  Mitchell          850     Spain  Female   43   \n\n   Tenure    Balance  NumOfProducts  HasCrCard  IsActiveMember  \\\n0       2       0.00              1          1               1   \n1       1   83807.86              1          0               1   \n2       8  159660.80              3          1               0   \n3       1       0.00              2          0               0   \n4       2  125510.82              1          1               1   \n\n   EstimatedSalary  Exited  \n0        101348.88       1  \n1        112542.58       0  \n2        113931.57       1  \n3         93826.63       0  \n4         79084.10       0  ",
      "text/html": "<div>\n<style scoped>\n    .dataframe tbody tr th:only-of-type {\n        vertical-align: middle;\n    }\n\n    .dataframe tbody tr th {\n        vertical-align: top;\n    }\n\n    .dataframe thead th {\n        text-align: right;\n    }\n</style>\n<table border=\"1\" class=\"dataframe\">\n  <thead>\n    <tr style=\"text-align: right;\">\n      <th></th>\n      <th>RowNumber</th>\n      <th>CustomerId</th>\n      <th>Surname</th>\n      <th>CreditScore</th>\n      <th>Geography</th>\n      <th>Gender</th>\n      <th>Age</th>\n      <th>Tenure</th>\n      <th>Balance</th>\n      <th>NumOfProducts</th>\n      <th>HasCrCard</th>\n      <th>IsActiveMember</th>\n      <th>EstimatedSalary</th>\n      <th>Exited</th>\n    </tr>\n  </thead>\n  <tbody>\n    <tr>\n      <th>0</th>\n      <td>1</td>\n      <td>15634602</td>\n      <td>Hargrave</td>\n      <td>619</td>\n      <td>France</td>\n      <td>Female</td>\n      <td>42</td>\n      <td>2</td>\n      <td>0.00</td>\n      <td>1</td>\n      <td>1</td>\n      <td>1</td>\n      <td>101348.88</td>\n      <td>1</td>\n    </tr>\n    <tr>\n      <th>1</th>\n      <td>2</td>\n      <td>15647311</td>\n      <td>Hill</td>\n      <td>608</td>\n      <td>Spain</td>\n      <td>Female</td>\n      <td>41</td>\n      <td>1</td>\n      <td>83807.86</td>\n      <td>1</td>\n      <td>0</td>\n      <td>1</td>\n      <td>112542.58</td>\n      <td>0</td>\n    </tr>\n    <tr>\n      <th>2</th>\n      <td>3</td>\n      <td>15619304</td>\n      <td>Onio</td>\n      <td>502</td>\n      <td>France</td>\n      <td>Female</td>\n      <td>42</td>\n      <td>8</td>\n      <td>159660.80</td>\n      <td>3</td>\n      <td>1</td>\n      <td>0</td>\n      <td>113931.57</td>\n      <td>1</td>\n    </tr>\n    <tr>\n      <th>3</th>\n      <td>4</td>\n      <td>15701354</td>\n      <td>Boni</td>\n      <td>699</td>\n      <td>France</td>\n      <td>Female</td>\n      <td>39</td>\n      <td>1</td>\n      <td>0.00</td>\n      <td>2</td>\n      <td>0</td>\n      <td>0</td>\n      <td>93826.63</td>\n      <td>0</td>\n    </tr>\n    <tr>\n      <th>4</th>\n      <td>5</td>\n      <td>15737888</td>\n      <td>Mitchell</td>\n      <td>850</td>\n      <td>Spain</td>\n      <td>Female</td>\n      <td>43</td>\n      <td>2</td>\n      <td>125510.82</td>\n      <td>1</td>\n      <td>1</td>\n      <td>1</td>\n      <td>79084.10</td>\n      <td>0</td>\n    </tr>\n  </tbody>\n</table>\n</div>"
     },
     "metadata": {},
     "execution_count": 2
    }
   ],
   "source": [
    "# Import dataset\n",
    "dataset = pd.read_csv('Churn_Modelling.csv')\n",
    "X = dataset.iloc[:, 3:13].values\n",
    "y = dataset.iloc[:, 13].values\n",
    "\n",
    "dataset.head()"
   ]
  },
  {
   "cell_type": "code",
   "execution_count": 3,
   "metadata": {},
   "outputs": [],
   "source": [
    "# Encode categorical data\n",
    "labelencoderX1 = LabelEncoder()\n",
    "X[:, 1] = labelencoderX1.fit_transform(X[:, 1])\n",
    "labelencoderX2 = LabelEncoder()\n",
    "X[:, 2] = labelencoderX2.fit_transform(X[:, 2])"
   ]
  },
  {
   "cell_type": "code",
   "execution_count": 4,
   "metadata": {},
   "outputs": [],
   "source": [
    "# Divide the dataset into training and test set\n",
    "X_train, X_test, y_train, y_test = train_test_split(X, y, test_size = 0.2, random_state = 0)"
   ]
  },
  {
   "cell_type": "code",
   "execution_count": 5,
   "metadata": {},
   "outputs": [],
   "source": [
    "# Feature Scaling\n",
    "sc = StandardScaler()\n",
    "X_train = sc.fit_transform(X_train)\n",
    "X_test = sc.transform(X_test)"
   ]
  },
  {
   "cell_type": "code",
   "execution_count": 6,
   "metadata": {
    "tags": []
   },
   "outputs": [
    {
     "output_type": "stream",
     "name": "stdout",
     "text": "WARNING:tensorflow:From C:\\Users\\ahmad\\Anaconda3\\envs\\deeplearning\\lib\\site-packages\\tensorflow\\python\\framework\\op_def_library.py:263: colocate_with (from tensorflow.python.framework.ops) is deprecated and will be removed in a future version.\nInstructions for updating:\nColocations handled automatically by placer.\nWARNING:tensorflow:From C:\\Users\\ahmad\\Anaconda3\\envs\\deeplearning\\lib\\site-packages\\keras\\backend\\tensorflow_backend.py:3445: calling dropout (from tensorflow.python.ops.nn_ops) with keep_prob is deprecated and will be removed in a future version.\nInstructions for updating:\nPlease use `rate` instead of `keep_prob`. Rate should be set to `rate = 1 - keep_prob`.\nWARNING:tensorflow:From C:\\Users\\ahmad\\Anaconda3\\envs\\deeplearning\\lib\\site-packages\\tensorflow\\python\\ops\\math_ops.py:3066: to_int32 (from tensorflow.python.ops.math_ops) is deprecated and will be removed in a future version.\nInstructions for updating:\nUse tf.cast instead.\nEpoch 1/100\n8000/8000 [==============================] - 4s 524us/step - loss: 0.1453 - acc: 0.7964\nEpoch 2/100\n8000/8000 [==============================] - 3s 325us/step - loss: 0.1315 - acc: 0.8304\nEpoch 3/100\n8000/8000 [==============================] - 3s 330us/step - loss: 0.1219 - acc: 0.8375\nEpoch 4/100\n8000/8000 [==============================] - 3s 363us/step - loss: 0.1202 - acc: 0.8437\nEpoch 5/100\n8000/8000 [==============================] - 3s 357us/step - loss: 0.1187 - acc: 0.8487\nEpoch 6/100\n8000/8000 [==============================] - 3s 381us/step - loss: 0.1167 - acc: 0.8479\nEpoch 7/100\n8000/8000 [==============================] - 3s 399us/step - loss: 0.1162 - acc: 0.8496\nEpoch 8/100\n8000/8000 [==============================] - 3s 364us/step - loss: 0.1163 - acc: 0.8494\nEpoch 9/100\n8000/8000 [==============================] - 3s 383us/step - loss: 0.1160 - acc: 0.8481\nEpoch 10/100\n8000/8000 [==============================] - 3s 372us/step - loss: 0.1155 - acc: 0.8485\nEpoch 11/100\n8000/8000 [==============================] - 3s 413us/step - loss: 0.1145 - acc: 0.8510\nEpoch 12/100\n8000/8000 [==============================] - 3s 407us/step - loss: 0.1125 - acc: 0.8516\nEpoch 13/100\n8000/8000 [==============================] - 3s 368us/step - loss: 0.1141 - acc: 0.8527\nEpoch 14/100\n8000/8000 [==============================] - 3s 358us/step - loss: 0.1141 - acc: 0.8540\nEpoch 15/100\n8000/8000 [==============================] - 3s 366us/step - loss: 0.1132 - acc: 0.8494\nEpoch 16/100\n8000/8000 [==============================] - 3s 394us/step - loss: 0.1122 - acc: 0.8546\nEpoch 17/100\n8000/8000 [==============================] - 3s 384us/step - loss: 0.1128 - acc: 0.8537\nEpoch 18/100\n8000/8000 [==============================] - 3s 368us/step - loss: 0.1126 - acc: 0.8530\nEpoch 19/100\n8000/8000 [==============================] - 3s 371us/step - loss: 0.1118 - acc: 0.8566\nEpoch 20/100\n8000/8000 [==============================] - 3s 358us/step - loss: 0.1116 - acc: 0.8542\nEpoch 21/100\n8000/8000 [==============================] - 3s 371us/step - loss: 0.1111 - acc: 0.8580\nEpoch 22/100\n8000/8000 [==============================] - 3s 360us/step - loss: 0.1109 - acc: 0.8561\nEpoch 23/100\n8000/8000 [==============================] - 3s 370us/step - loss: 0.1109 - acc: 0.8559\nEpoch 24/100\n8000/8000 [==============================] - 3s 391us/step - loss: 0.1117 - acc: 0.8567\nEpoch 25/100\n8000/8000 [==============================] - 3s 360us/step - loss: 0.1104 - acc: 0.8570\nEpoch 26/100\n8000/8000 [==============================] - 3s 372us/step - loss: 0.1119 - acc: 0.8549\nEpoch 27/100\n8000/8000 [==============================] - 3s 384us/step - loss: 0.1108 - acc: 0.8559\nEpoch 28/100\n8000/8000 [==============================] - 3s 415us/step - loss: 0.1098 - acc: 0.8560\nEpoch 29/100\n8000/8000 [==============================] - 3s 376us/step - loss: 0.1104 - acc: 0.8590\nEpoch 30/100\n8000/8000 [==============================] - 3s 368us/step - loss: 0.1113 - acc: 0.8554\nEpoch 31/100\n8000/8000 [==============================] - 3s 404us/step - loss: 0.1105 - acc: 0.8571\nEpoch 32/100\n8000/8000 [==============================] - 3s 362us/step - loss: 0.1098 - acc: 0.8564\nEpoch 33/100\n8000/8000 [==============================] - 3s 355us/step - loss: 0.1107 - acc: 0.8551\nEpoch 34/100\n8000/8000 [==============================] - 3s 357us/step - loss: 0.1097 - acc: 0.8586\nEpoch 35/100\n8000/8000 [==============================] - 3s 354us/step - loss: 0.1091 - acc: 0.8586\nEpoch 36/100\n8000/8000 [==============================] - 3s 347us/step - loss: 0.1098 - acc: 0.8562\nEpoch 37/100\n8000/8000 [==============================] - 3s 368us/step - loss: 0.1101 - acc: 0.8590\nEpoch 38/100\n8000/8000 [==============================] - 3s 355us/step - loss: 0.1099 - acc: 0.8587\nEpoch 39/100\n8000/8000 [==============================] - 3s 381us/step - loss: 0.1078 - acc: 0.8592\nEpoch 40/100\n8000/8000 [==============================] - 3s 346us/step - loss: 0.1078 - acc: 0.8604\nEpoch 41/100\n8000/8000 [==============================] - 3s 375us/step - loss: 0.1095 - acc: 0.8569\nEpoch 42/100\n8000/8000 [==============================] - 3s 352us/step - loss: 0.1088 - acc: 0.8566\nEpoch 43/100\n8000/8000 [==============================] - 3s 351us/step - loss: 0.1093 - acc: 0.8589\nEpoch 44/100\n8000/8000 [==============================] - 3s 372us/step - loss: 0.1097 - acc: 0.8582\nEpoch 45/100\n8000/8000 [==============================] - 3s 349us/step - loss: 0.1097 - acc: 0.8581\nEpoch 46/100\n8000/8000 [==============================] - 3s 375us/step - loss: 0.1096 - acc: 0.8580\nEpoch 47/100\n8000/8000 [==============================] - 3s 355us/step - loss: 0.1086 - acc: 0.8601\nEpoch 48/100\n8000/8000 [==============================] - 3s 358us/step - loss: 0.1097 - acc: 0.8562\nEpoch 49/100\n8000/8000 [==============================] - 3s 352us/step - loss: 0.1088 - acc: 0.8566\nEpoch 50/100\n8000/8000 [==============================] - 3s 364us/step - loss: 0.1079 - acc: 0.8595\nEpoch 51/100\n8000/8000 [==============================] - 3s 361us/step - loss: 0.1091 - acc: 0.8602\nEpoch 52/100\n8000/8000 [==============================] - 3s 356us/step - loss: 0.1095 - acc: 0.8575\nEpoch 53/100\n8000/8000 [==============================] - 3s 355us/step - loss: 0.1077 - acc: 0.8606\nEpoch 54/100\n8000/8000 [==============================] - 3s 353us/step - loss: 0.1090 - acc: 0.8567\nEpoch 55/100\n8000/8000 [==============================] - 3s 323us/step - loss: 0.1067 - acc: 0.8605\nEpoch 56/100\n8000/8000 [==============================] - 2s 311us/step - loss: 0.1092 - acc: 0.8571\nEpoch 57/100\n8000/8000 [==============================] - 3s 318us/step - loss: 0.1088 - acc: 0.8566\nEpoch 58/100\n8000/8000 [==============================] - 3s 334us/step - loss: 0.1086 - acc: 0.8591\nEpoch 59/100\n8000/8000 [==============================] - 3s 319us/step - loss: 0.1099 - acc: 0.8556\nEpoch 60/100\n8000/8000 [==============================] - 3s 314us/step - loss: 0.1073 - acc: 0.8561\nEpoch 61/100\n8000/8000 [==============================] - 3s 321us/step - loss: 0.1077 - acc: 0.8594\nEpoch 62/100\n8000/8000 [==============================] - 3s 313us/step - loss: 0.1081 - acc: 0.8597\nEpoch 63/100\n8000/8000 [==============================] - 3s 324us/step - loss: 0.1089 - acc: 0.8586\nEpoch 64/100\n8000/8000 [==============================] - 2s 307us/step - loss: 0.1077 - acc: 0.8591\nEpoch 65/100\n8000/8000 [==============================] - 3s 316us/step - loss: 0.1072 - acc: 0.8624\nEpoch 66/100\n8000/8000 [==============================] - 2s 310us/step - loss: 0.1075 - acc: 0.8604\nEpoch 67/100\n8000/8000 [==============================] - 3s 329us/step - loss: 0.1094 - acc: 0.8572\nEpoch 68/100\n8000/8000 [==============================] - 3s 317us/step - loss: 0.1082 - acc: 0.8602\nEpoch 69/100\n8000/8000 [==============================] - 3s 332us/step - loss: 0.1068 - acc: 0.8632\nEpoch 70/100\n8000/8000 [==============================] - 3s 322us/step - loss: 0.1089 - acc: 0.8610\nEpoch 71/100\n8000/8000 [==============================] - 3s 337us/step - loss: 0.1087 - acc: 0.8607\nEpoch 72/100\n8000/8000 [==============================] - 3s 413us/step - loss: 0.1080 - acc: 0.8607\nEpoch 73/100\n8000/8000 [==============================] - 3s 421us/step - loss: 0.1081 - acc: 0.8579\nEpoch 74/100\n8000/8000 [==============================] - 3s 328us/step - loss: 0.1072 - acc: 0.8609\nEpoch 75/100\n8000/8000 [==============================] - 2s 312us/step - loss: 0.1077 - acc: 0.8589\nEpoch 76/100\n8000/8000 [==============================] - 3s 327us/step - loss: 0.1077 - acc: 0.8594\nEpoch 77/100\n8000/8000 [==============================] - 3s 322us/step - loss: 0.1076 - acc: 0.8576\nEpoch 78/100\n8000/8000 [==============================] - 3s 318us/step - loss: 0.1078 - acc: 0.8626\nEpoch 79/100\n8000/8000 [==============================] - 3s 345us/step - loss: 0.1074 - acc: 0.8585\nEpoch 80/100\n8000/8000 [==============================] - 3s 360us/step - loss: 0.1078 - acc: 0.8581\nEpoch 81/100\n8000/8000 [==============================] - 3s 325us/step - loss: 0.1076 - acc: 0.8609\nEpoch 82/100\n8000/8000 [==============================] - 2s 311us/step - loss: 0.1066 - acc: 0.8594\nEpoch 83/100\n8000/8000 [==============================] - 3s 324us/step - loss: 0.1077 - acc: 0.8592\nEpoch 84/100\n8000/8000 [==============================] - 2s 311us/step - loss: 0.1080 - acc: 0.8606\nEpoch 85/100\n8000/8000 [==============================] - 3s 335us/step - loss: 0.1085 - acc: 0.8591\nEpoch 86/100\n8000/8000 [==============================] - 2s 311us/step - loss: 0.1090 - acc: 0.8601\nEpoch 87/100\n8000/8000 [==============================] - 3s 328us/step - loss: 0.1085 - acc: 0.8557\nEpoch 88/100\n8000/8000 [==============================] - 3s 320us/step - loss: 0.1079 - acc: 0.8620\nEpoch 89/100\n8000/8000 [==============================] - 3s 335us/step - loss: 0.1081 - acc: 0.8611\nEpoch 90/100\n8000/8000 [==============================] - 4s 452us/step - loss: 0.1070 - acc: 0.8625\nEpoch 91/100\n8000/8000 [==============================] - 3s 379us/step - loss: 0.1062 - acc: 0.8629\nEpoch 92/100\n8000/8000 [==============================] - 3s 385us/step - loss: 0.1084 - acc: 0.8592\nEpoch 93/100\n8000/8000 [==============================] - 3s 339us/step - loss: 0.1074 - acc: 0.8599\nEpoch 94/100\n8000/8000 [==============================] - 2s 309us/step - loss: 0.1073 - acc: 0.8591\nEpoch 95/100\n8000/8000 [==============================] - 3s 346us/step - loss: 0.1074 - acc: 0.8614\nEpoch 96/100\n8000/8000 [==============================] - 3s 313us/step - loss: 0.1066 - acc: 0.8616\nEpoch 97/100\n8000/8000 [==============================] - 3s 317us/step - loss: 0.1069 - acc: 0.8615\nEpoch 98/100\n8000/8000 [==============================] - 3s 313us/step - loss: 0.1071 - acc: 0.8614\nEpoch 99/100\n8000/8000 [==============================] - 2s 311us/step - loss: 0.1072 - acc: 0.8595\nEpoch 100/100\n8000/8000 [==============================] - 3s 313us/step - loss: 0.1079 - acc: 0.8599\n"
    },
    {
     "output_type": "execute_result",
     "data": {
      "text/plain": "&lt;keras.callbacks.History at 0x2726c38c978&gt;"
     },
     "metadata": {},
     "execution_count": 6
    }
   ],
   "source": [
    "# The ANN\n",
    "model = Sequential()\n",
    "\n",
    "# Input layer & first hidden layer\n",
    "model.add(Dense(units = 100, kernel_initializer = 'uniform', activation = 'relu', input_dim = 10))\n",
    "model.add(Dropout(p = 0.5))\n",
    "\n",
    "# second hidden layer\n",
    "model.add(Dense(units = 100, kernel_initializer = 'uniform', activation = 'relu'))\n",
    "model.add(Dropout(p = 0.5))\n",
    "\n",
    "# third hidden layer\n",
    "model.add(Dense(units = 100, kernel_initializer = 'uniform', activation = 'relu'))\n",
    "model.add(Dropout(p = 0.5))\n",
    "\n",
    "# third hidden layer\n",
    "model.add(Dense(units = 100, kernel_initializer = 'uniform', activation = 'relu'))\n",
    "model.add(Dropout(p = 0.5))\n",
    "\n",
    "# third hidden layer\n",
    "model.add(Dense(units = 100, kernel_initializer = 'uniform', activation = 'relu'))\n",
    "model.add(Dropout(p = 0.5))\n",
    "\n",
    "# Output layer\n",
    "model.add(Dense(units = 1, kernel_initializer = 'uniform', activation = 'sigmoid'))\n",
    "\n",
    "# Compile ANN\n",
    "model.compile(optimizer = 'adam', loss = 'mse', metrics = ['accuracy'])\n",
    "\n",
    "# Train model\n",
    "model.fit(X_train, y_train, batch_size = 10, epochs = 100, shuffle=True)"
   ]
  },
  {
   "cell_type": "code",
   "execution_count": 7,
   "metadata": {},
   "outputs": [],
   "source": [
    "# Save model\n",
    "model.save(\"../model/churn_model.h5\")"
   ]
  }
 ]
}